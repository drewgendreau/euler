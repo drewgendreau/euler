{
 "cells": [
  {
   "cell_type": "code",
   "execution_count": 3,
   "metadata": {
    "collapsed": false
   },
   "outputs": [
    {
     "name": "stderr",
     "output_type": "stream",
     "text": [
      "WARNING: Method definition generate_pentagonals(Int64, Int64) in module Main at In[1]:2 overwritten at In[3]:2.\n",
      "WARNING: Method definition check_pentagonal(Any) in module Main at In[1]:10 overwritten at In[3]:10.\n",
      "WARNING: Method definition run_me(Array{Int64, N<:Any}) in module Main at In[1]:14 overwritten at In[3]:14.\n"
     ]
    },
    {
     "data": {
      "text/plain": [
       "run_me (generic function with 1 method)"
      ]
     },
     "execution_count": 3,
     "metadata": {},
     "output_type": "execute_result"
    }
   ],
   "source": [
    "function generate_pentagonals(a::Int, z::Int)\n",
    "    p = Int[]\n",
    "    for i in a:z\n",
    "        push!(p, i*(3*i-1)/2)\n",
    "    end\n",
    "    return p\n",
    "end\n",
    "\n",
    "function check_pentagonal(x)\n",
    "    return isinteger((sqrt(24*x+1)+1)/6)\n",
    "end\n",
    "\n",
    "function run_me(a::Array{Int})\n",
    "    len = length(a)\n",
    "    for c in 1:(len-1)\n",
    "        # if mod(c, 100000) == 0 print(c, \"; \") end\n",
    "        for d in c:len\n",
    "            # if mod(d, 100000) == 0 print(d, \"; \") end\n",
    "            j = a[c]\n",
    "            k = a[d]\n",
    "            if check_pentagonal((k-j)) == true\n",
    "                if check_pentagonal(k+j) == true\n",
    "                    println(\"k = \", k, \"; j = \", j)\n",
    "                end\n",
    "            end\n",
    "        end\n",
    "    end\n",
    "end"
   ]
  },
  {
   "cell_type": "code",
   "execution_count": 4,
   "metadata": {
    "collapsed": false
   },
   "outputs": [],
   "source": [
    "a = generate_pentagonals(1, 100000);"
   ]
  },
  {
   "cell_type": "code",
   "execution_count": 5,
   "metadata": {
    "collapsed": false
   },
   "outputs": [
    {
     "name": "stdout",
     "output_type": "stream",
     "text": [
      "k = 7042750; j = 1560090\n",
      "k = 12599537925; j = 4123331135\n"
     ]
    }
   ],
   "source": [
    "run_me(a)"
   ]
  },
  {
   "cell_type": "code",
   "execution_count": 6,
   "metadata": {
    "collapsed": false
   },
   "outputs": [
    {
     "data": {
      "text/plain": [
       "5482660"
      ]
     },
     "execution_count": 6,
     "metadata": {},
     "output_type": "execute_result"
    }
   ],
   "source": [
    "abs(7042750 - 1560090)"
   ]
  },
  {
   "cell_type": "code",
   "execution_count": null,
   "metadata": {
    "collapsed": true
   },
   "outputs": [],
   "source": []
  }
 ],
 "metadata": {
  "anaconda-cloud": {},
  "kernelspec": {
   "display_name": "Julia 0.5.0",
   "language": "julia",
   "name": "julia-0.5"
  },
  "language_info": {
   "file_extension": ".jl",
   "mimetype": "application/julia",
   "name": "julia",
   "version": "0.5.0"
  }
 },
 "nbformat": 4,
 "nbformat_minor": 1
}
