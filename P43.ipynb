{
 "cells": [
  {
   "cell_type": "code",
   "execution_count": 1,
   "metadata": {
    "collapsed": true
   },
   "outputs": [],
   "source": [
    "using Combinatorics"
   ]
  },
  {
   "cell_type": "code",
   "execution_count": 7,
   "metadata": {
    "collapsed": false
   },
   "outputs": [
    {
     "data": {
      "text/plain": [
       "get_pandigitals (generic function with 2 methods)"
      ]
     },
     "execution_count": 7,
     "metadata": {},
     "output_type": "execute_result"
    }
   ],
   "source": [
    "function get_pandigitals(s = 1234567)\n",
    "    a = sort(digits(s))\n",
    "    return map(join, unique(collect(permutations(a))))\n",
    "end"
   ]
  },
  {
   "cell_type": "code",
   "execution_count": 9,
   "metadata": {
    "collapsed": false
   },
   "outputs": [
    {
     "data": {
      "text/plain": [
       "3628800-element Array{String,1}:\n",
       " \"0123456789\"\n",
       " \"0123456798\"\n",
       " \"0123456879\"\n",
       " \"0123456897\"\n",
       " \"0123456978\"\n",
       " \"0123456987\"\n",
       " \"0123457689\"\n",
       " \"0123457698\"\n",
       " \"0123457869\"\n",
       " \"0123457896\"\n",
       " \"0123457968\"\n",
       " \"0123457986\"\n",
       " \"0123458679\"\n",
       " ⋮           \n",
       " \"9876542013\"\n",
       " \"9876542031\"\n",
       " \"9876542103\"\n",
       " \"9876542130\"\n",
       " \"9876542301\"\n",
       " \"9876542310\"\n",
       " \"9876543012\"\n",
       " \"9876543021\"\n",
       " \"9876543102\"\n",
       " \"9876543120\"\n",
       " \"9876543201\"\n",
       " \"9876543210\""
      ]
     },
     "execution_count": 9,
     "metadata": {},
     "output_type": "execute_result"
    }
   ],
   "source": [
    "a = get_pandigitals5(1234567890)"
   ]
  },
  {
   "cell_type": "code",
   "execution_count": 23,
   "metadata": {
    "collapsed": false
   },
   "outputs": [
    {
     "data": {
      "text/plain": [
       "3265920-element Array{String,1}:\n",
       " \"1023456789\"\n",
       " \"1023456798\"\n",
       " \"1023456879\"\n",
       " \"1023456897\"\n",
       " \"1023456978\"\n",
       " \"1023456987\"\n",
       " \"1023457689\"\n",
       " \"1023457698\"\n",
       " \"1023457869\"\n",
       " \"1023457896\"\n",
       " \"1023457968\"\n",
       " \"1023457986\"\n",
       " \"1023458679\"\n",
       " ⋮           \n",
       " \"9876542013\"\n",
       " \"9876542031\"\n",
       " \"9876542103\"\n",
       " \"9876542130\"\n",
       " \"9876542301\"\n",
       " \"9876542310\"\n",
       " \"9876543012\"\n",
       " \"9876543021\"\n",
       " \"9876543102\"\n",
       " \"9876543120\"\n",
       " \"9876543201\"\n",
       " \"9876543210\""
      ]
     },
     "execution_count": 23,
     "metadata": {},
     "output_type": "execute_result"
    }
   ],
   "source": [
    "a = a[map(x->x[1] != '0', a)]"
   ]
  },
  {
   "cell_type": "code",
   "execution_count": 16,
   "metadata": {
    "collapsed": false
   },
   "outputs": [
    {
     "data": {
      "text/plain": [
       "check_identity (generic function with 1 method)"
      ]
     },
     "execution_count": 16,
     "metadata": {},
     "output_type": "execute_result"
    }
   ],
   "source": [
    "function check_identity(x)\n",
    "    if mod(parse(x[8:10]), 17) != 0 return false end\n",
    "    if mod(parse(x[7:9]), 13) != 0 return false end\n",
    "    if mod(parse(x[6:8]), 11) != 0 return false end\n",
    "    if mod(parse(x[5:7]), 7) != 0 return false end\n",
    "    if mod(parse(x[4:6]), 5) != 0 return false end\n",
    "    if mod(parse(x[3:5]), 3) != 0 return false end\n",
    "    if mod(parse(x[2:4]), 2) != 0 return false end\n",
    "    return true\n",
    "end"
   ]
  },
  {
   "cell_type": "code",
   "execution_count": 29,
   "metadata": {
    "collapsed": false
   },
   "outputs": [
    {
     "data": {
      "text/html": [
       "true"
      ],
      "text/plain": [
       "true"
      ]
     },
     "execution_count": 29,
     "metadata": {},
     "output_type": "execute_result"
    }
   ],
   "source": [
    "check_identity(\"1406357289\")"
   ]
  },
  {
   "cell_type": "code",
   "execution_count": 24,
   "metadata": {
    "collapsed": false
   },
   "outputs": [
    {
     "data": {
      "text/plain": [
       "3265920-element Array{Int64,1}:\n",
       " 789\n",
       " 798\n",
       " 879\n",
       " 897\n",
       " 978\n",
       " 987\n",
       " 689\n",
       " 698\n",
       " 869\n",
       " 896\n",
       " 968\n",
       " 986\n",
       " 679\n",
       "   ⋮\n",
       "  13\n",
       "  31\n",
       " 103\n",
       " 130\n",
       " 301\n",
       " 310\n",
       "  12\n",
       "  21\n",
       " 102\n",
       " 120\n",
       " 201\n",
       " 210"
      ]
     },
     "execution_count": 24,
     "metadata": {},
     "output_type": "execute_result"
    }
   ],
   "source": [
    "b = map(x->parse(x[8:10]), a)"
   ]
  },
  {
   "cell_type": "code",
   "execution_count": 25,
   "metadata": {
    "collapsed": false
   },
   "outputs": [
    {
     "data": {
      "text/plain": [
       "3265920-element Array{Bool,1}:\n",
       " false\n",
       " false\n",
       " false\n",
       " false\n",
       " false\n",
       " false\n",
       " false\n",
       " false\n",
       " false\n",
       " false\n",
       " false\n",
       "  true\n",
       " false\n",
       "     ⋮\n",
       " false\n",
       " false\n",
       " false\n",
       " false\n",
       " false\n",
       " false\n",
       " false\n",
       " false\n",
       "  true\n",
       " false\n",
       " false\n",
       " false"
      ]
     },
     "execution_count": 25,
     "metadata": {},
     "output_type": "execute_result"
    }
   ],
   "source": [
    "c = map(x->mod(x, 17)==0, b)"
   ]
  },
  {
   "cell_type": "code",
   "execution_count": 26,
   "metadata": {
    "collapsed": false
   },
   "outputs": [
    {
     "data": {
      "text/plain": [
       "200880-element Array{String,1}:\n",
       " \"1023457986\"\n",
       " \"1023458697\"\n",
       " \"1023459867\"\n",
       " \"1023469578\"\n",
       " \"1023475986\"\n",
       " \"1023485697\"\n",
       " \"1023489765\"\n",
       " \"1023495867\"\n",
       " \"1023496578\"\n",
       " \"1023498765\"\n",
       " \"1023547986\"\n",
       " \"1023548697\"\n",
       " \"1023549867\"\n",
       " ⋮           \n",
       " \"9876432051\"\n",
       " \"9876432510\"\n",
       " \"9876435102\"\n",
       " \"9876453102\"\n",
       " \"9876512034\"\n",
       " \"9876512340\"\n",
       " \"9876513204\"\n",
       " \"9876521034\"\n",
       " \"9876521340\"\n",
       " \"9876531204\"\n",
       " \"9876534102\"\n",
       " \"9876543102\""
      ]
     },
     "execution_count": 26,
     "metadata": {},
     "output_type": "execute_result"
    }
   ],
   "source": [
    "d = a[c]"
   ]
  },
  {
   "cell_type": "code",
   "execution_count": 30,
   "metadata": {
    "collapsed": false
   },
   "outputs": [
    {
     "name": "stderr",
     "output_type": "stream",
     "text": [
      "WARNING: imported binding for e overwritten in module Main\n"
     ]
    },
    {
     "data": {
      "text/plain": [
       "6-element Array{String,1}:\n",
       " \"1406357289\"\n",
       " \"1430952867\"\n",
       " \"1460357289\"\n",
       " \"4106357289\"\n",
       " \"4130952867\"\n",
       " \"4160357289\""
      ]
     },
     "execution_count": 30,
     "metadata": {},
     "output_type": "execute_result"
    }
   ],
   "source": [
    "e = d[map(check_identity, d)]"
   ]
  },
  {
   "cell_type": "code",
   "execution_count": 33,
   "metadata": {
    "collapsed": false
   },
   "outputs": [
    {
     "data": {
      "text/html": [
       "16695334890"
      ],
      "text/plain": [
       "16695334890"
      ]
     },
     "execution_count": 33,
     "metadata": {},
     "output_type": "execute_result"
    }
   ],
   "source": [
    "sum(map(x->parse(x), e))"
   ]
  },
  {
   "cell_type": "code",
   "execution_count": null,
   "metadata": {
    "collapsed": true
   },
   "outputs": [],
   "source": []
  }
 ],
 "metadata": {
  "anaconda-cloud": {},
  "kernelspec": {
   "display_name": "Julia 0.5.0",
   "language": "julia",
   "name": "julia-0.5"
  },
  "language_info": {
   "file_extension": ".jl",
   "mimetype": "application/julia",
   "name": "julia",
   "version": "0.5.0"
  }
 },
 "nbformat": 4,
 "nbformat_minor": 2
}
