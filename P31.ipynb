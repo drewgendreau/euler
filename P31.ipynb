{
 "cells": [
  {
   "cell_type": "code",
   "execution_count": 1,
   "metadata": {
    "collapsed": false
   },
   "outputs": [
    {
     "data": {
      "text/plain": [
       "8-element Array{Int64,1}:\n",
       "   1\n",
       "   2\n",
       "   5\n",
       "  10\n",
       "  20\n",
       "  50\n",
       " 100\n",
       " 200"
      ]
     },
     "execution_count": 1,
     "metadata": {},
     "output_type": "execute_result"
    }
   ],
   "source": [
    "amounts = [1, 2, 5, 10, 20, 50, 100, 200]"
   ]
  },
  {
   "cell_type": "code",
   "execution_count": 32,
   "metadata": {
    "collapsed": false
   },
   "outputs": [
    {
     "data": {
      "text/plain": [
       "check_calc (generic function with 10 methods)"
      ]
     },
     "execution_count": 32,
     "metadata": {},
     "output_type": "execute_result"
    }
   ],
   "source": [
    "function check_calc(amounts::Array{Int64}, p1::Int64 = 0, p2::Int64 = 0, p3::Int64 = 0, p4::Int64 = 0, p5::Int64 = 0, p6::Int64 = 0, p7::Int64 = 0, p8::Int64 = 0)\n",
    "    weights = [p1, p2, p3, p4, p5, p6, p7, p8]\n",
    "    return sum(amounts .* weights)\n",
    "end"
   ]
  },
  {
   "cell_type": "code",
   "execution_count": 33,
   "metadata": {
    "collapsed": false
   },
   "outputs": [
    {
     "name": "stderr",
     "output_type": "stream",
     "text": [
      "WARNING: Method definition run_calc() in module Main at In[30]:2 overwritten at In[33]:2.\n"
     ]
    },
    {
     "data": {
      "text/plain": [
       "run_calc (generic function with 1 method)"
      ]
     },
     "execution_count": 33,
     "metadata": {},
     "output_type": "execute_result"
    }
   ],
   "source": [
    "function run_calc()\n",
    "    p1 = 200\n",
    "    p2 = 100\n",
    "    p3 = 40\n",
    "    p4 = 20\n",
    "    p5 = 10\n",
    "    p6 = 4\n",
    "    p7 = 2\n",
    "    p8 = 1\n",
    "    \n",
    "    c = 0\n",
    "    \n",
    "    amounts = [1, 2, 5, 10, 20, 50, 100, 200]\n",
    "    \n",
    "    for i1 in 0:p1\n",
    "        if (check_calc(amounts, i1) > 200) continue end\n",
    "        for i2 in 0:p2\n",
    "            if (check_calc(amounts, i1, i2) > 200) continue end\n",
    "            for i3 in 0:p3\n",
    "                if (check_calc(amounts, i1, i2, i3) > 200) continue end\n",
    "                for i4 in 0:p4\n",
    "                    if (check_calc(amounts, i1, i2, i3, i4) > 200) continue end\n",
    "                    for i5 in 0:p5\n",
    "                        if (check_calc(amounts, i1, i2, i3, i4, i5) > 200) continue end\n",
    "                        for i6 in 0:p6\n",
    "                            if (check_calc(amounts, i1, i2, i3, i4, i5, i6) > 200) continue end\n",
    "                            for i7 in 0:p7\n",
    "                                if (check_calc(amounts, i1, i2, i3, i4, i5, i6, i7) > 200) continue end\n",
    "                                for i8 in 0:p8\n",
    "                                    a = check_calc(amounts, i1, i2, i3, i4, i5, i6, i7, i8)\n",
    "                                    if a == 200 c += 1 end\n",
    "                                end\n",
    "                            end\n",
    "                        end\n",
    "                    end\n",
    "                end\n",
    "            end\n",
    "        end\n",
    "    end\n",
    "    \n",
    "    return c\n",
    "end"
   ]
  },
  {
   "cell_type": "code",
   "execution_count": 34,
   "metadata": {
    "collapsed": false
   },
   "outputs": [
    {
     "data": {
      "text/plain": [
       "73682"
      ]
     },
     "execution_count": 34,
     "metadata": {},
     "output_type": "execute_result"
    }
   ],
   "source": [
    "run_calc()"
   ]
  }
 ],
 "metadata": {
  "anaconda-cloud": {},
  "kernelspec": {
   "display_name": "Julia 0.5.0",
   "language": "julia",
   "name": "julia-0.5"
  },
  "language_info": {
   "file_extension": ".jl",
   "mimetype": "application/julia",
   "name": "julia",
   "version": "0.5.0"
  }
 },
 "nbformat": 4,
 "nbformat_minor": 2
}
