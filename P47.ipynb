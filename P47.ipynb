{
 "cells": [
  {
   "cell_type": "code",
   "execution_count": 5,
   "metadata": {
    "collapsed": false
   },
   "outputs": [],
   "source": [
    "using Primes"
   ]
  },
  {
   "cell_type": "code",
   "execution_count": 18,
   "metadata": {
    "collapsed": false
   },
   "outputs": [
    {
     "name": "stderr",
     "output_type": "stream",
     "text": [
      "WARNING: Method definition get_primes(Any) in module Main at In[15]:1 overwritten at In[18]:1.\n",
      "WARNING: Method definition check_lengths(Any, Any, Any, Any, Any) in module Main at In[15]:4 overwritten at In[18]:4.\n",
      "WARNING: Method definition check_allunique(Any, Any, Any, Any) in module Main at In[15]:8 overwritten at In[18]:8.\n",
      "WARNING: Method definition all_unique_primes() in module Main at In[15]:12 overwritten at In[18]:12.\n"
     ]
    },
    {
     "data": {
      "text/plain": [
       "all_unique_primes (generic function with 1 method)"
      ]
     },
     "execution_count": 18,
     "metadata": {},
     "output_type": "execute_result"
    }
   ],
   "source": [
    "function get_primes(x) collect(keys(factor(x))) end\n",
    "\n",
    "function check_lengths(i, j, k, l, len)\n",
    "    return (length(i) == len & length(j) == len & length(k) == len & length(l) == len)\n",
    "end\n",
    "\n",
    "function check_allunique(i, j, k, l)\n",
    "    return (allunique(i) & allunique(j) & allunique(k) & allunique(l))\n",
    "end\n",
    "\n",
    "function all_unique_primes()\n",
    "    a = 1\n",
    "    b = 2\n",
    "    c = 3\n",
    "    d = 4\n",
    "    \n",
    "    while true\n",
    "        increment = 1\n",
    "\n",
    "        i = get_primes(a)\n",
    "        j = get_primes(b)\n",
    "        k = get_primes(c)\n",
    "        l = get_primes(d)\n",
    "        \n",
    "        if (check_lengths(i,j,k,l,4) & check_allunique(i,j,k,l))\n",
    "            println(a, \", \", b, \", \", c, \", \", d)\n",
    "            break\n",
    "        end\n",
    "\n",
    "        if (mod(a, 10000) == 0) println(a) end\n",
    "\n",
    "        a += increment\n",
    "        b += increment\n",
    "        c += increment\n",
    "        d += increment\n",
    "        \n",
    "    end\n",
    "end"
   ]
  },
  {
   "cell_type": "code",
   "execution_count": 19,
   "metadata": {
    "collapsed": false
   },
   "outputs": [
    {
     "name": "stdout",
     "output_type": "stream",
     "text": [
      "10000\n",
      "20000\n",
      "30000\n",
      "40000\n",
      "50000\n",
      "60000\n",
      "70000\n",
      "80000\n",
      "90000\n",
      "100000\n",
      "110000\n",
      "120000\n",
      "130000\n",
      "134043, 134044, 134045, 134046\n"
     ]
    }
   ],
   "source": [
    "a = all_unique_primes()"
   ]
  },
  {
   "cell_type": "code",
   "execution_count": null,
   "metadata": {
    "collapsed": true
   },
   "outputs": [],
   "source": []
  }
 ],
 "metadata": {
  "kernelspec": {
   "display_name": "Julia 0.5.0",
   "language": "julia",
   "name": "julia-0.5"
  },
  "language_info": {
   "file_extension": ".jl",
   "mimetype": "application/julia",
   "name": "julia",
   "version": "0.5.0"
  }
 },
 "nbformat": 4,
 "nbformat_minor": 2
}
