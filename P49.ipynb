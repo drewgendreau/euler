{
 "cells": [
  {
   "cell_type": "code",
   "execution_count": 1,
   "metadata": {
    "collapsed": false
   },
   "outputs": [],
   "source": [
    "using Combinatorics\n",
    "using Primes"
   ]
  },
  {
   "cell_type": "code",
   "execution_count": 27,
   "metadata": {
    "collapsed": false
   },
   "outputs": [
    {
     "data": {
      "text/plain": [
       "1061-element Array{Int64,1}:\n",
       " 1009\n",
       " 1013\n",
       " 1019\n",
       " 1021\n",
       " 1031\n",
       " 1033\n",
       " 1039\n",
       " 1049\n",
       " 1051\n",
       " 1061\n",
       " 1063\n",
       " 1069\n",
       " 1087\n",
       "    ⋮\n",
       " 9871\n",
       " 9883\n",
       " 9887\n",
       " 9901\n",
       " 9907\n",
       " 9923\n",
       " 9929\n",
       " 9931\n",
       " 9941\n",
       " 9949\n",
       " 9967\n",
       " 9973"
      ]
     },
     "execution_count": 27,
     "metadata": {},
     "output_type": "execute_result"
    }
   ],
   "source": [
    "a = collect(1000:9999)\n",
    "a = map(join, a)\n",
    "a = map(parse, a)\n",
    "a = a[map(isprime, a)]"
   ]
  },
  {
   "cell_type": "code",
   "execution_count": 28,
   "metadata": {
    "collapsed": false
   },
   "outputs": [
    {
     "name": "stderr",
     "output_type": "stream",
     "text": [
      "WARNING: Method definition test_diff(Any, Any, Any) in module Main at In[8]:2 overwritten at In[28]:2.\n"
     ]
    },
    {
     "data": {
      "text/plain": [
       "test_diff (generic function with 1 method)"
      ]
     },
     "execution_count": 28,
     "metadata": {},
     "output_type": "execute_result"
    }
   ],
   "source": [
    "function test_diff(x, y, z)\n",
    "    if (x != y && y != z && x != z)\n",
    "        f = z - y\n",
    "        g = y - x\n",
    "        if (f == g)\n",
    "            return true\n",
    "        end\n",
    "    end\n",
    "    return false\n",
    "end"
   ]
  },
  {
   "cell_type": "code",
   "execution_count": 29,
   "metadata": {
    "collapsed": false
   },
   "outputs": [
    {
     "name": "stderr",
     "output_type": "stream",
     "text": [
      "WARNING: Method definition test_perm(Any, Any, Any) in module Main at In[9]:2 overwritten at In[29]:2.\n"
     ]
    },
    {
     "data": {
      "text/plain": [
       "test_perm (generic function with 1 method)"
      ]
     },
     "execution_count": 29,
     "metadata": {},
     "output_type": "execute_result"
    }
   ],
   "source": [
    "function test_perm(x, y, z)\n",
    "    g = collect(permutations(string(x), 4))\n",
    "    g = map(join, g)\n",
    "    g = map(parse, g)\n",
    "    return (findfirst(g, x) != 0 && findfirst(g, y) != 0 && findfirst(g, z) != 0)\n",
    "end"
   ]
  },
  {
   "cell_type": "code",
   "execution_count": 30,
   "metadata": {
    "collapsed": false
   },
   "outputs": [
    {
     "data": {
      "text/html": [
       "true"
      ],
      "text/plain": [
       "true"
      ]
     },
     "execution_count": 30,
     "metadata": {},
     "output_type": "execute_result"
    }
   ],
   "source": [
    "test_perm(2969, 6299, 9629)"
   ]
  },
  {
   "cell_type": "code",
   "execution_count": 31,
   "metadata": {
    "collapsed": false
   },
   "outputs": [
    {
     "name": "stderr",
     "output_type": "stream",
     "text": [
      "WARNING: Method definition test_prime(Any, Any, Any) in module Main at In[11]:2 overwritten at In[31]:2.\n"
     ]
    },
    {
     "data": {
      "text/plain": [
       "test_prime (generic function with 1 method)"
      ]
     },
     "execution_count": 31,
     "metadata": {},
     "output_type": "execute_result"
    }
   ],
   "source": [
    "function test_prime(x, y, z)\n",
    "    return (isprime(x) && isprime(y) && isprime(z))\n",
    "end"
   ]
  },
  {
   "cell_type": "code",
   "execution_count": 34,
   "metadata": {
    "collapsed": false
   },
   "outputs": [
    {
     "name": "stderr",
     "output_type": "stream",
     "text": [
      "WARNING: Method definition run_me(Any) in module Main at In[32]:2 overwritten at In[34]:2.\n"
     ]
    },
    {
     "data": {
      "text/plain": [
       "run_me (generic function with 1 method)"
      ]
     },
     "execution_count": 34,
     "metadata": {},
     "output_type": "execute_result"
    }
   ],
   "source": [
    "function run_me(b)\n",
    "    len = length(b)\n",
    "    for i in 1:len\n",
    "        for j in i:len\n",
    "            if b[i] < b[j]\n",
    "                k = b[j] + (b[j]-b[i])\n",
    "                if k < 10000 && isprime(k)\n",
    "                    if test_perm(b[i], b[j], k)\n",
    "                        println(b[i],b[j],k)\n",
    "                    end\n",
    "                end\n",
    "            end\n",
    "        end\n",
    "    end\n",
    "end"
   ]
  },
  {
   "cell_type": "code",
   "execution_count": 35,
   "metadata": {
    "collapsed": false
   },
   "outputs": [
    {
     "name": "stdout",
     "output_type": "stream",
     "text": [
      "148748178147\n",
      "296962999629\n"
     ]
    }
   ],
   "source": [
    "run_me(a)"
   ]
  },
  {
   "cell_type": "code",
   "execution_count": null,
   "metadata": {
    "collapsed": true
   },
   "outputs": [],
   "source": []
  }
 ],
 "metadata": {
  "anaconda-cloud": {},
  "kernelspec": {
   "display_name": "Julia 0.5.0",
   "language": "julia",
   "name": "julia-0.5"
  },
  "language_info": {
   "file_extension": ".jl",
   "mimetype": "application/julia",
   "name": "julia",
   "version": "0.5.0"
  }
 },
 "nbformat": 4,
 "nbformat_minor": 1
}
