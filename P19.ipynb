{
 "cells": [
  {
   "cell_type": "code",
   "execution_count": 152,
   "metadata": {
    "collapsed": false
   },
   "outputs": [
    {
     "name": "stderr",
     "output_type": "stream",
     "text": [
      "WARNING: Method definition my_dates(Base.Dates.Date, Base.Dates.Date) in module Main at In[141]:2 overwritten at In[152]:2.\n",
      "WARNING: Method definition check_first_month_sunday(Any) in module Main at In[150]:2 overwritten at In[152]:17.\n",
      "WARNING: Method definition check_first_month(Any) in module Main at In[141]:22 overwritten at In[152]:22.\n",
      "WARNING: Method definition check_sunday(Any) in module Main at In[141]:26 overwritten at In[152]:26.\n"
     ]
    },
    {
     "data": {
      "text/plain": [
       "check_sunday (generic function with 1 method)"
      ]
     },
     "execution_count": 152,
     "metadata": {},
     "output_type": "execute_result"
    }
   ],
   "source": [
    "function my_dates(start::Date, finish::Date)\n",
    "    b = []\n",
    "    d = start\n",
    "    while (d <= finish)\n",
    "        if Dates.dayofweek(d) == 7\n",
    "            if Dates.day(d) == 1\n",
    "                push!(b, d)\n",
    "            end\n",
    "        end\n",
    "        d += Dates.Day(1)\n",
    "    end\n",
    "    return b\n",
    "end\n",
    "\n",
    "\n",
    "function check_first_month_sunday(x)\n",
    "    return (Dates.day(x) == 1 & Dates.dayofweek(x) == 7)\n",
    "end\n",
    "\n",
    "\n",
    "function check_first_month(x)\n",
    "    return Dates.day(x) == 1\n",
    "end\n",
    "\n",
    "function check_sunday(x)\n",
    "    return Dates.dayofweek(x) == 7\n",
    "end\n"
   ]
  },
  {
   "cell_type": "code",
   "execution_count": 153,
   "metadata": {
    "collapsed": false
   },
   "outputs": [
    {
     "data": {
      "text/plain": [
       "31"
      ]
     },
     "execution_count": 153,
     "metadata": {},
     "output_type": "execute_result"
    }
   ],
   "source": [
    "Dates.day(z)"
   ]
  },
  {
   "cell_type": "code",
   "execution_count": 154,
   "metadata": {
    "collapsed": false
   },
   "outputs": [
    {
     "data": {
      "text/plain": [
       "7"
      ]
     },
     "execution_count": 154,
     "metadata": {},
     "output_type": "execute_result"
    }
   ],
   "source": [
    "Dates.dayofweek(z)"
   ]
  },
  {
   "cell_type": "code",
   "execution_count": 155,
   "metadata": {
    "collapsed": false
   },
   "outputs": [
    {
     "data": {
      "text/plain": [
       "2000-12-31"
      ]
     },
     "execution_count": 155,
     "metadata": {},
     "output_type": "execute_result"
    }
   ],
   "source": [
    "z"
   ]
  },
  {
   "cell_type": "code",
   "execution_count": 156,
   "metadata": {
    "collapsed": false
   },
   "outputs": [
    {
     "data": {
      "text/plain": [
       "171-element Array{Any,1}:\n",
       " 1901-09-01\n",
       " 1901-12-01\n",
       " 1902-06-01\n",
       " 1903-02-01\n",
       " 1903-03-01\n",
       " 1903-11-01\n",
       " 1904-05-01\n",
       " 1905-01-01\n",
       " 1905-10-01\n",
       " 1906-04-01\n",
       " 1906-07-01\n",
       " 1907-09-01\n",
       " 1907-12-01\n",
       " ⋮         \n",
       " 1993-08-01\n",
       " 1994-05-01\n",
       " 1995-01-01\n",
       " 1995-10-01\n",
       " 1996-09-01\n",
       " 1996-12-01\n",
       " 1997-06-01\n",
       " 1998-02-01\n",
       " 1998-03-01\n",
       " 1998-11-01\n",
       " 1999-08-01\n",
       " 2000-10-01"
      ]
     },
     "execution_count": 156,
     "metadata": {},
     "output_type": "execute_result"
    }
   ],
   "source": [
    "a = my_dates(Date(1901, 1, 1), Date(2000, 12, 31))"
   ]
  },
  {
   "cell_type": "code",
   "execution_count": 157,
   "metadata": {
    "collapsed": false
   },
   "outputs": [
    {
     "name": "stdout",
     "output_type": "stream",
     "text": [
      "1901-09-01\n",
      "1901-12-01\n",
      "1902-06-01\n",
      "1903-02-01\n",
      "1903-03-01\n",
      "1903-11-01\n",
      "1904-05-01\n",
      "1905-01-01\n",
      "1905-10-01\n",
      "1906-04-01\n",
      "1906-07-01\n",
      "1907-09-01\n",
      "1907-12-01\n",
      "1908-03-01\n",
      "1908-11-01\n",
      "1909-08-01\n",
      "1910-05-01\n",
      "1911-01-01\n",
      "1911-10-01\n",
      "1912-09-01\n",
      "1912-12-01\n",
      "1913-06-01\n",
      "1914-02-01\n",
      "1914-03-01\n",
      "1914-11-01\n",
      "1915-08-01\n",
      "1916-10-01\n",
      "1917-04-01\n",
      "1917-07-01\n",
      "1918-09-01\n",
      "1918-12-01\n",
      "1919-06-01\n",
      "1920-02-01\n",
      "1920-08-01\n",
      "1921-05-01\n",
      "1922-01-01\n",
      "1922-10-01\n",
      "1923-04-01\n",
      "1923-07-01\n",
      "1924-06-01\n",
      "1925-02-01\n",
      "1925-03-01\n",
      "1925-11-01\n",
      "1926-08-01\n",
      "1927-05-01\n",
      "1928-01-01\n",
      "1928-04-01\n",
      "1928-07-01\n",
      "1929-09-01\n",
      "1929-12-01\n",
      "1930-06-01\n",
      "1931-02-01\n",
      "1931-03-01\n",
      "1931-11-01\n",
      "1932-05-01\n",
      "1933-01-01\n",
      "1933-10-01\n",
      "1934-04-01\n",
      "1934-07-01\n",
      "1935-09-01\n",
      "1935-12-01\n",
      "1936-03-01\n",
      "1936-11-01\n",
      "1937-08-01\n",
      "1938-05-01\n",
      "1939-01-01\n",
      "1939-10-01\n",
      "1940-09-01\n",
      "1940-12-01\n",
      "1941-06-01\n",
      "1942-02-01\n",
      "1942-03-01\n",
      "1942-11-01\n",
      "1943-08-01\n",
      "1944-10-01\n",
      "1945-04-01\n",
      "1945-07-01\n",
      "1946-09-01\n",
      "1946-12-01\n",
      "1947-06-01\n",
      "1948-02-01\n",
      "1948-08-01\n",
      "1949-05-01\n",
      "1950-01-01\n",
      "1950-10-01\n",
      "1951-04-01\n",
      "1951-07-01\n",
      "1952-06-01\n",
      "1953-02-01\n",
      "1953-03-01\n",
      "1953-11-01\n",
      "1954-08-01\n",
      "1955-05-01\n",
      "1956-01-01\n",
      "1956-04-01\n",
      "1956-07-01\n",
      "1957-09-01\n",
      "1957-12-01\n",
      "1958-06-01\n",
      "1959-02-01\n",
      "1959-03-01\n",
      "1959-11-01\n",
      "1960-05-01\n",
      "1961-01-01\n",
      "1961-10-01\n",
      "1962-04-01\n",
      "1962-07-01\n",
      "1963-09-01\n",
      "1963-12-01\n",
      "1964-03-01\n",
      "1964-11-01\n",
      "1965-08-01\n",
      "1966-05-01\n",
      "1967-01-01\n",
      "1967-10-01\n",
      "1968-09-01\n",
      "1968-12-01\n",
      "1969-06-01\n",
      "1970-02-01\n",
      "1970-03-01\n",
      "1970-11-01\n",
      "1971-08-01\n",
      "1972-10-01\n",
      "1973-04-01\n",
      "1973-07-01\n",
      "1974-09-01\n",
      "1974-12-01\n",
      "1975-06-01\n",
      "1976-02-01\n",
      "1976-08-01\n",
      "1977-05-01\n",
      "1978-01-01\n",
      "1978-10-01\n",
      "1979-04-01\n",
      "1979-07-01\n",
      "1980-06-01\n",
      "1981-02-01\n",
      "1981-03-01\n",
      "1981-11-01\n",
      "1982-08-01\n",
      "1983-05-01\n",
      "1984-01-01\n",
      "1984-04-01\n",
      "1984-07-01\n",
      "1985-09-01\n",
      "1985-12-01\n",
      "1986-06-01\n",
      "1987-02-01\n",
      "1987-03-01\n",
      "1987-11-01\n",
      "1988-05-01\n",
      "1989-01-01\n",
      "1989-10-01\n",
      "1990-04-01\n",
      "1990-07-01\n",
      "1991-09-01\n",
      "1991-12-01\n",
      "1992-03-01\n",
      "1992-11-01\n",
      "1993-08-01\n",
      "1994-05-01\n",
      "1995-01-01\n",
      "1995-10-01\n",
      "1996-09-01\n",
      "1996-12-01\n",
      "1997-06-01\n",
      "1998-02-01\n",
      "1998-03-01\n",
      "1998-11-01\n",
      "1999-08-01\n",
      "2000-10-01\n"
     ]
    }
   ],
   "source": [
    "for i in a println(i) end"
   ]
  },
  {
   "cell_type": "code",
   "execution_count": 143,
   "metadata": {
    "collapsed": false
   },
   "outputs": [
    {
     "data": {
      "text/plain": [
       "0"
      ]
     },
     "execution_count": 143,
     "metadata": {},
     "output_type": "execute_result"
    }
   ],
   "source": [
    "sum(map(check_first_month_sunday, a))"
   ]
  },
  {
   "cell_type": "code",
   "execution_count": 144,
   "metadata": {
    "collapsed": false
   },
   "outputs": [
    {
     "data": {
      "text/plain": [
       "171"
      ]
     },
     "execution_count": 144,
     "metadata": {},
     "output_type": "execute_result"
    }
   ],
   "source": [
    "sum(map(check_first_month, a))"
   ]
  },
  {
   "cell_type": "code",
   "execution_count": 145,
   "metadata": {
    "collapsed": false
   },
   "outputs": [
    {
     "data": {
      "text/plain": [
       "171"
      ]
     },
     "execution_count": 145,
     "metadata": {},
     "output_type": "execute_result"
    }
   ],
   "source": [
    "sum(map(check_sunday, a))"
   ]
  },
  {
   "cell_type": "code",
   "execution_count": 135,
   "metadata": {
    "collapsed": false
   },
   "outputs": [
    {
     "data": {
      "text/plain": [
       "2000-12-31"
      ]
     },
     "execution_count": 135,
     "metadata": {},
     "output_type": "execute_result"
    }
   ],
   "source": [
    "z = Date(2000, 12, 31)"
   ]
  },
  {
   "cell_type": "code",
   "execution_count": 136,
   "metadata": {
    "collapsed": false
   },
   "outputs": [
    {
     "data": {
      "text/plain": [
       "31"
      ]
     },
     "execution_count": 136,
     "metadata": {},
     "output_type": "execute_result"
    }
   ],
   "source": [
    "Dates.day(z)"
   ]
  },
  {
   "cell_type": "code",
   "execution_count": 137,
   "metadata": {
    "collapsed": false
   },
   "outputs": [
    {
     "data": {
      "text/plain": [
       "7"
      ]
     },
     "execution_count": 137,
     "metadata": {},
     "output_type": "execute_result"
    }
   ],
   "source": [
    "Dates.dayofweek(z)"
   ]
  },
  {
   "cell_type": "code",
   "execution_count": 138,
   "metadata": {
    "collapsed": false
   },
   "outputs": [
    {
     "data": {
      "text/plain": [
       "true"
      ]
     },
     "execution_count": 138,
     "metadata": {},
     "output_type": "execute_result"
    }
   ],
   "source": [
    "Dates.day(z) == 31"
   ]
  },
  {
   "cell_type": "code",
   "execution_count": 139,
   "metadata": {
    "collapsed": false
   },
   "outputs": [
    {
     "data": {
      "text/plain": [
       "true"
      ]
     },
     "execution_count": 139,
     "metadata": {},
     "output_type": "execute_result"
    }
   ],
   "source": [
    "Dates.dayofweek(z) == 7"
   ]
  },
  {
   "cell_type": "code",
   "execution_count": 140,
   "metadata": {
    "collapsed": false
   },
   "outputs": [
    {
     "data": {
      "text/plain": [
       "true"
      ]
     },
     "execution_count": 140,
     "metadata": {},
     "output_type": "execute_result"
    }
   ],
   "source": [
    "Dates.day(z) == 31 && Dates.dayofweek(z) == 7"
   ]
  },
  {
   "cell_type": "code",
   "execution_count": 150,
   "metadata": {
    "collapsed": false
   },
   "outputs": [
    {
     "name": "stderr",
     "output_type": "stream",
     "text": [
      "WARNING: Method definition check_first_month_sunday(Any) in module Main at In[148]:2 overwritten at In[150]:2.\n"
     ]
    },
    {
     "data": {
      "text/plain": [
       "check_first_month_sunday (generic function with 1 method)"
      ]
     },
     "execution_count": 150,
     "metadata": {},
     "output_type": "execute_result"
    }
   ],
   "source": [
    "function check_first_month_sunday()\n",
    "    return (Dates.day(x) == 1 && Dates.dayofweek == 7)\n",
    "end"
   ]
  },
  {
   "cell_type": "code",
   "execution_count": 151,
   "metadata": {
    "collapsed": false
   },
   "outputs": [
    {
     "data": {
      "text/plain": [
       "true"
      ]
     },
     "execution_count": 151,
     "metadata": {},
     "output_type": "execute_result"
    }
   ],
   "source": [
    "check_first_month_sunday(z)"
   ]
  },
  {
   "cell_type": "code",
   "execution_count": null,
   "metadata": {
    "collapsed": true
   },
   "outputs": [],
   "source": []
  },
  {
   "cell_type": "code",
   "execution_count": null,
   "metadata": {
    "collapsed": true
   },
   "outputs": [],
   "source": []
  }
 ],
 "metadata": {
  "anaconda-cloud": {},
  "kernelspec": {
   "display_name": "Julia 0.5.0",
   "language": "julia",
   "name": "julia-0.5"
  },
  "language_info": {
   "file_extension": ".jl",
   "mimetype": "application/julia",
   "name": "julia",
   "version": "0.5.0"
  }
 },
 "nbformat": 4,
 "nbformat_minor": 1
}
