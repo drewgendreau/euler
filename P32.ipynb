{
 "cells": [
  {
   "cell_type": "code",
   "execution_count": 48,
   "metadata": {
    "collapsed": true
   },
   "outputs": [],
   "source": [
    "using Combinatorics"
   ]
  },
  {
   "cell_type": "code",
   "execution_count": 49,
   "metadata": {
    "collapsed": false
   },
   "outputs": [
    {
     "name": "stderr",
     "output_type": "stream",
     "text": [
      "WARNING: Method definition get_pandigitals5() in module Main at In[4]:23 overwritten at In[49]:2.\n",
      "WARNING: Method definition get_pandigitals5(Any) in module Main at In[4]:23 overwritten at In[49]:2.\n"
     ]
    },
    {
     "data": {
      "text/plain": [
       "get_pandigitals5 (generic function with 2 methods)"
      ]
     },
     "execution_count": 49,
     "metadata": {},
     "output_type": "execute_result"
    }
   ],
   "source": [
    "function get_pandigitals5(s = 1234567)\n",
    "    a = sort(digits(s))\n",
    "    return map(join, unique(collect(permutations(a))))\n",
    "end"
   ]
  },
  {
   "cell_type": "code",
   "execution_count": 50,
   "metadata": {
    "collapsed": false
   },
   "outputs": [
    {
     "data": {
      "text/plain": [
       "362880-element Array{String,1}:\n",
       " \"123456789\"\n",
       " \"123456798\"\n",
       " \"123456879\"\n",
       " \"123456897\"\n",
       " \"123456978\"\n",
       " \"123456987\"\n",
       " \"123457689\"\n",
       " \"123457698\"\n",
       " \"123457869\"\n",
       " \"123457896\"\n",
       " \"123457968\"\n",
       " \"123457986\"\n",
       " \"123458679\"\n",
       " ⋮          \n",
       " \"987653124\"\n",
       " \"987653142\"\n",
       " \"987653214\"\n",
       " \"987653241\"\n",
       " \"987653412\"\n",
       " \"987653421\"\n",
       " \"987654123\"\n",
       " \"987654132\"\n",
       " \"987654213\"\n",
       " \"987654231\"\n",
       " \"987654312\"\n",
       " \"987654321\""
      ]
     },
     "execution_count": 50,
     "metadata": {},
     "output_type": "execute_result"
    }
   ],
   "source": [
    "a = get_pandigitals5(123456789)"
   ]
  },
  {
   "cell_type": "code",
   "execution_count": 51,
   "metadata": {
    "collapsed": false
   },
   "outputs": [
    {
     "name": "stderr",
     "output_type": "stream",
     "text": [
      "WARNING: Method definition any_identity(Any) in module Main at In[45]:2 overwritten at In[51]:2.\n"
     ]
    },
    {
     "data": {
      "text/plain": [
       "any_identity (generic function with 1 method)"
      ]
     },
     "execution_count": 51,
     "metadata": {},
     "output_type": "execute_result"
    }
   ],
   "source": [
    "function any_identity(x)\n",
    "    for m = 1:8\n",
    "        a = parse(x[1:m])\n",
    "        for e = (m+1):8\n",
    "            b = parse(x[(m+1):e])\n",
    "            c = parse(x[(e+1):9])\n",
    "            if (a*b == c) return true end\n",
    "        end\n",
    "    end\n",
    "    return false\n",
    "end"
   ]
  },
  {
   "cell_type": "code",
   "execution_count": 67,
   "metadata": {
    "collapsed": false
   },
   "outputs": [
    {
     "name": "stderr",
     "output_type": "stream",
     "text": [
      "WARNING: Method definition out_identity(Any) in module Main at In[61]:2 overwritten at In[67]:2.\n",
      "WARNING: Method definition out_identity2(Any) in module Main at In[61]:13 overwritten at In[67]:13.\n"
     ]
    },
    {
     "data": {
      "text/plain": [
       "out_identity2 (generic function with 1 method)"
      ]
     },
     "execution_count": 67,
     "metadata": {},
     "output_type": "execute_result"
    }
   ],
   "source": [
    "function out_identity(x)\n",
    "    for m = 1:8\n",
    "        a = parse(x[1:m])\n",
    "        for e = (m+1):8\n",
    "            b = parse(x[(m+1):e])\n",
    "            c = parse(x[(e+1):9])\n",
    "            println(a, \" * \", b, \" = \", c)\n",
    "        end\n",
    "    end\n",
    "end\n",
    "\n",
    "function out_identity2(x)\n",
    "    for m = 1:8\n",
    "        a = parse(x[1:m])\n",
    "        for e = (m+1):8\n",
    "            b = parse(x[(m+1):e])\n",
    "            c = parse(x[(e+1):9])\n",
    "            if (a*b==c) return c end\n",
    "        end\n",
    "    end\n",
    "end"
   ]
  },
  {
   "cell_type": "code",
   "execution_count": 11,
   "metadata": {
    "collapsed": false
   },
   "outputs": [
    {
     "data": {
      "text/plain": [
       "362880-element Array{Bool,1}:\n",
       " false\n",
       " false\n",
       " false\n",
       " false\n",
       " false\n",
       " false\n",
       " false\n",
       " false\n",
       " false\n",
       " false\n",
       " false\n",
       " false\n",
       " false\n",
       "     ⋮\n",
       " false\n",
       " false\n",
       " false\n",
       " false\n",
       " false\n",
       " false\n",
       " false\n",
       " false\n",
       " false\n",
       " false\n",
       " false\n",
       " false"
      ]
     },
     "execution_count": 11,
     "metadata": {},
     "output_type": "execute_result"
    }
   ],
   "source": [
    "d = map(any_identity, a)"
   ]
  },
  {
   "cell_type": "code",
   "execution_count": 13,
   "metadata": {
    "collapsed": false
   },
   "outputs": [
    {
     "data": {
      "text/plain": [
       "18-element Array{String,1}:\n",
       " \"124835796\"\n",
       " \"138425796\"\n",
       " \"157284396\"\n",
       " \"159487632\"\n",
       " \"173846952\"\n",
       " \"182975346\"\n",
       " \"186397254\"\n",
       " \"196347852\"\n",
       " \"198275346\"\n",
       " \"271985346\"\n",
       " \"281574396\"\n",
       " \"297185346\"\n",
       " \"391867254\"\n",
       " \"417386952\"\n",
       " \"419637852\"\n",
       " \"421385796\"\n",
       " \"481597632\"\n",
       " \"483125796\""
      ]
     },
     "execution_count": 13,
     "metadata": {},
     "output_type": "execute_result"
    }
   ],
   "source": [
    "e = unique(a[d])"
   ]
  },
  {
   "cell_type": "code",
   "execution_count": 71,
   "metadata": {
    "collapsed": false
   },
   "outputs": [
    {
     "data": {
      "text/html": [
       "45228"
      ],
      "text/plain": [
       "45228"
      ]
     },
     "execution_count": 71,
     "metadata": {},
     "output_type": "execute_result"
    }
   ],
   "source": [
    "sum(unique(map(out_identity, e)))"
   ]
  },
  {
   "cell_type": "code",
   "execution_count": 65,
   "metadata": {
    "collapsed": false
   },
   "outputs": [
    {
     "data": {
      "text/plain": [
       "9-element Array{Int64,1}:\n",
       " 124835796\n",
       " 138425796\n",
       " 157284396\n",
       " 159487632\n",
       " 173846952\n",
       " 182975346\n",
       " 186397254\n",
       " 196347852\n",
       " 198275346"
      ]
     },
     "execution_count": 65,
     "metadata": {},
     "output_type": "execute_result"
    }
   ],
   "source": [
    "f = map(parse, e[1:9])"
   ]
  },
  {
   "cell_type": "code",
   "execution_count": 66,
   "metadata": {
    "collapsed": false
   },
   "outputs": [
    {
     "data": {
      "text/html": [
       "1517876370"
      ],
      "text/plain": [
       "1517876370"
      ]
     },
     "execution_count": 66,
     "metadata": {},
     "output_type": "execute_result"
    }
   ],
   "source": [
    "sum(f)"
   ]
  },
  {
   "cell_type": "code",
   "execution_count": null,
   "metadata": {
    "collapsed": true
   },
   "outputs": [],
   "source": []
  }
 ],
 "metadata": {
  "anaconda-cloud": {},
  "kernelspec": {
   "display_name": "Julia 0.5.0",
   "language": "julia",
   "name": "julia-0.5"
  },
  "language_info": {
   "file_extension": ".jl",
   "mimetype": "application/julia",
   "name": "julia",
   "version": "0.5.0"
  }
 },
 "nbformat": 4,
 "nbformat_minor": 2
}
